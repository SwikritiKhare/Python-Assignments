{
  "nbformat": 4,
  "nbformat_minor": 0,
  "metadata": {
    "colab": {
      "provenance": []
    },
    "kernelspec": {
      "name": "python3",
      "display_name": "Python 3"
    },
    "language_info": {
      "name": "python"
    }
  },
  "cells": [
    {
      "cell_type": "markdown",
      "source": [
        "1. Seconds in an Hour\n",
        "Use Python to calculate how many seconds are in one hour. Multiply the number of seconds\n",
        "in a minute by the number of minutes in an hour."
      ],
      "metadata": {
        "id": "1jUbm5R-YfHH"
      }
    },
    {
      "cell_type": "code",
      "execution_count": 1,
      "metadata": {
        "colab": {
          "base_uri": "https://localhost:8080/"
        },
        "id": "2O2GvOEnYaOl",
        "outputId": "c75ffec9-d625-462b-cc94-8aac52a3736c"
      },
      "outputs": [
        {
          "output_type": "stream",
          "name": "stdout",
          "text": [
            "Seconds in one hour: 3600\n"
          ]
        }
      ],
      "source": [
        "seconds_in_minute = 60\n",
        "minutes_in_hour = 60\n",
        "\n",
        "seconds_in_hour = seconds_in_minute * minutes_in_hour\n",
        "print(\"Seconds in one hour:\", seconds_in_hour)\n"
      ]
    },
    {
      "cell_type": "markdown",
      "source": [
        "2. Store the Result in a Variable\n",
        "Assign the result from Question 1 to a variable called seconds_per_hour and print it."
      ],
      "metadata": {
        "id": "BwR0tCsPYrTu"
      }
    },
    {
      "cell_type": "markdown",
      "source": [],
      "metadata": {
        "id": "QZXV1gHOYrOs"
      }
    },
    {
      "cell_type": "code",
      "source": [
        "seconds_per_hour = 60 * 60\n",
        "print(\"Seconds per hour:\", seconds_per_hour)\n"
      ],
      "metadata": {
        "colab": {
          "base_uri": "https://localhost:8080/"
        },
        "id": "uQmJIoceYshD",
        "outputId": "cfe291b3-bec1-4526-d8c6-9968c0ed0720"
      },
      "execution_count": 2,
      "outputs": [
        {
          "output_type": "stream",
          "name": "stdout",
          "text": [
            "Seconds per hour: 3600\n"
          ]
        }
      ]
    },
    {
      "cell_type": "markdown",
      "source": [
        "3. Calculate Seconds in a Day\n",
        "Estimate how many seconds are in a day. Use the variable seconds_per_hour and any other\n",
        "variables you may need."
      ],
      "metadata": {
        "id": "uoEDt_vqYzar"
      }
    },
    {
      "cell_type": "code",
      "source": [
        "seconds_per_hour = 60 * 60\n",
        "hours_per_day = 24\n",
        "\n",
        "seconds_per_day = seconds_per_hour * hours_per_day\n",
        "print(\"Seconds in a day:\", seconds_per_day)\n"
      ],
      "metadata": {
        "colab": {
          "base_uri": "https://localhost:8080/"
        },
        "id": "gHGGR8IxY0xz",
        "outputId": "e511259c-639b-45f9-c05e-812405c9bbe6"
      },
      "execution_count": 3,
      "outputs": [
        {
          "output_type": "stream",
          "name": "stdout",
          "text": [
            "Seconds in a day: 86400\n"
          ]
        }
      ]
    },
    {
      "cell_type": "markdown",
      "source": [
        "4. Save Seconds Per Day in a Variable\n",
        "Recalculate the number of seconds in a day and assign the result to a variable called\n",
        "seconds_per_day. Print the value."
      ],
      "metadata": {
        "id": "9YKDdgCaY84P"
      }
    },
    {
      "cell_type": "markdown",
      "source": [],
      "metadata": {
        "id": "1tNmDBo1Y8xc"
      }
    },
    {
      "cell_type": "code",
      "source": [
        "seconds_per_hour = 60 * 60\n",
        "seconds_per_day = seconds_per_hour * 24\n",
        "\n",
        "print(\"Seconds per day:\", seconds_per_day)\n"
      ],
      "metadata": {
        "colab": {
          "base_uri": "https://localhost:8080/"
        },
        "id": "VbgQeDzdZD90",
        "outputId": "af86544a-eb88-472b-a017-dd4f8ee5dde5"
      },
      "execution_count": 4,
      "outputs": [
        {
          "output_type": "stream",
          "name": "stdout",
          "text": [
            "Seconds per day: 86400\n"
          ]
        }
      ]
    },
    {
      "cell_type": "markdown",
      "source": [
        "5. Floating-Point Division\n",
        "Divide seconds_per_day by seconds_per_hour using floating-point division (/). What\n",
        "result do you get?"
      ],
      "metadata": {
        "id": "Ac35jkWhZJBO"
      }
    },
    {
      "cell_type": "code",
      "source": [
        "seconds_per_hour = 60 * 60\n",
        "seconds_per_day = seconds_per_hour * 24\n",
        "\n",
        "result = seconds_per_day / seconds_per_hour\n",
        "print(\"Result of floating-point division:\", result)\n"
      ],
      "metadata": {
        "colab": {
          "base_uri": "https://localhost:8080/"
        },
        "id": "gmR5UEG0ZLAr",
        "outputId": "9065271e-3fc0-4b02-9571-c86bf6e8e80f"
      },
      "execution_count": 5,
      "outputs": [
        {
          "output_type": "stream",
          "name": "stdout",
          "text": [
            "Result of floating-point division: 24.0\n"
          ]
        }
      ]
    },
    {
      "cell_type": "markdown",
      "source": [
        "6. Integer Division\n",
        "Now divide seconds_per_day by seconds_per_hour using integer division (//). Does this\n",
        "value match the previous result aside from the decimal point?"
      ],
      "metadata": {
        "id": "8oOyF3PKZSkq"
      }
    },
    {
      "cell_type": "code",
      "source": [
        "seconds_per_hour = 60 * 60\n",
        "seconds_per_day = seconds_per_hour * 24\n",
        "\n",
        "result = seconds_per_day // seconds_per_hour\n",
        "print(\"Result of integer division:\", result)\n"
      ],
      "metadata": {
        "colab": {
          "base_uri": "https://localhost:8080/"
        },
        "id": "W2qefS9KZU5L",
        "outputId": "8d036c69-02cf-49ce-f12a-e264d393d28f"
      },
      "execution_count": 6,
      "outputs": [
        {
          "output_type": "stream",
          "name": "stdout",
          "text": [
            "Result of integer division: 24\n"
          ]
        }
      ]
    },
    {
      "cell_type": "markdown",
      "source": [
        "7. Prime Number Generator\n",
        "\n",
        "Write a generator function genPrimes() that yields an infinite sequence of prime numbers\n",
        "starting from 2.\n",
        "Use a loop to print the first 5 prime numbers generated by genPrimes()."
      ],
      "metadata": {
        "id": "Vw4sV3DRZbJ7"
      }
    },
    {
      "cell_type": "code",
      "source": [
        "def genPrimes():\n",
        "    primes = []\n",
        "    num = 2\n",
        "    while True:\n",
        "        is_prime = True\n",
        "        for p in primes:\n",
        "            if num % p == 0:\n",
        "                is_prime = False\n",
        "                break\n",
        "        if is_prime:\n",
        "            primes.append(num)\n",
        "            yield num\n",
        "        num += 1\n",
        "\n",
        "# Print the first 5 prime numbers\n",
        "prime_generator = genPrimes()\n",
        "for _ in range(5):\n",
        "    print(next(prime_generator))\n",
        "\n"
      ],
      "metadata": {
        "colab": {
          "base_uri": "https://localhost:8080/"
        },
        "id": "KCbv1BK8ZcPU",
        "outputId": "ade08f41-2d63-4a7d-b6de-752280da39d7"
      },
      "execution_count": 8,
      "outputs": [
        {
          "output_type": "stream",
          "name": "stdout",
          "text": [
            "2\n",
            "3\n",
            "5\n",
            "7\n",
            "11\n"
          ]
        }
      ]
    }
  ]
}