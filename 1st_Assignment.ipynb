{
  "nbformat": 4,
  "nbformat_minor": 0,
  "metadata": {
    "colab": {
      "provenance": [],
      "authorship_tag": "ABX9TyOsIxm5yCC0FSCWk05M15Do",
      "include_colab_link": true
    },
    "kernelspec": {
      "name": "python3",
      "display_name": "Python 3"
    },
    "language_info": {
      "name": "python"
    }
  },
  "cells": [
    {
      "cell_type": "markdown",
      "metadata": {
        "id": "view-in-github",
        "colab_type": "text"
      },
      "source": [
        "<a href=\"https://colab.research.google.com/github/SwikritiKhare/Python-Assignments/blob/main/1st_Assignment.ipynb\" target=\"_parent\"><img src=\"https://colab.research.google.com/assets/colab-badge.svg\" alt=\"Open In Colab\"/></a>"
      ]
    },
    {
      "cell_type": "code",
      "execution_count": null,
      "metadata": {
        "id": "sIPeXRSNaUXK"
      },
      "outputs": [],
      "source": [
        "#(1. Question 1:Write a Python program to print your name and favourite colour on two separate lines.)\n"
      ]
    },
    {
      "cell_type": "code",
      "source": [
        " print (''' swikriti\n",
        "  pink ''')"
      ],
      "metadata": {
        "colab": {
          "base_uri": "https://localhost:8080/"
        },
        "id": "myfkm6V5a4Yg",
        "outputId": "c6f50f28-3849-408a-cbe8-e336458e33ce"
      },
      "execution_count": null,
      "outputs": [
        {
          "output_type": "stream",
          "name": "stdout",
          "text": [
            " swikriti\n",
            " pink \n"
          ]
        }
      ]
    },
    {
      "cell_type": "code",
      "source": [
        "#2. Question 2:\n",
        "#Write a Python program that prints the result of adding 7 and 8."
      ],
      "metadata": {
        "id": "W3p4Y9cObXGn"
      },
      "execution_count": null,
      "outputs": []
    },
    {
      "cell_type": "code",
      "source": [
        "print (7+8)"
      ],
      "metadata": {
        "colab": {
          "base_uri": "https://localhost:8080/"
        },
        "id": "W7O1swHTbdHF",
        "outputId": "a55f7e3d-db16-44e1-91f2-c66f56581477"
      },
      "execution_count": null,
      "outputs": [
        {
          "output_type": "stream",
          "name": "stdout",
          "text": [
            "15\n"
          ]
        }
      ]
    },
    {
      "cell_type": "code",
      "source": [
        "#3. Question 3:\n",
        "#Use the print function to display the following text exactly as it is:\n",
        "#Python is fun!\n",
        "#Let's learn together."
      ],
      "metadata": {
        "id": "pLCLyTIDbomd"
      },
      "execution_count": null,
      "outputs": []
    },
    {
      "cell_type": "code",
      "source": [
        "print(\"Python is fun!\\nLet's learn together\")"
      ],
      "metadata": {
        "colab": {
          "base_uri": "https://localhost:8080/"
        },
        "id": "IKLcMpg5bw_K",
        "outputId": "e4d2be28-ab58-4d0a-8a6d-3d8eb5beb746"
      },
      "execution_count": null,
      "outputs": [
        {
          "output_type": "stream",
          "name": "stdout",
          "text": [
            "Python is fun!\n",
            "Let's learn together\n"
          ]
        }
      ]
    },
    {
      "cell_type": "code",
      "source": [
        "#4. Question 4:\n",
        "#Write a Python program to calculate and print the result of multiplying 6 by 9."
      ],
      "metadata": {
        "id": "VR5O98tgcBSv"
      },
      "execution_count": null,
      "outputs": []
    },
    {
      "cell_type": "code",
      "source": [
        "print(6*9)"
      ],
      "metadata": {
        "colab": {
          "base_uri": "https://localhost:8080/"
        },
        "id": "3r6BOLshcIpU",
        "outputId": "22fef55e-920b-4b3c-fe84-d9ae0f5cb3c9"
      },
      "execution_count": null,
      "outputs": [
        {
          "output_type": "stream",
          "name": "stdout",
          "text": [
            "54\n"
          ]
        }
      ]
    },
    {
      "cell_type": "code",
      "source": [
        "#5. Question 5:\n",
        "#Write a Python program that prints the result of adding 5 + 5 and\n",
        "#multiplying 2 * 3 in a single line of code."
      ],
      "metadata": {
        "id": "q2NNKMhRcNyG"
      },
      "execution_count": null,
      "outputs": []
    },
    {
      "cell_type": "code",
      "source": [
        "print(5+5,2*3)"
      ],
      "metadata": {
        "colab": {
          "base_uri": "https://localhost:8080/"
        },
        "id": "0a02oE8LcVEX",
        "outputId": "337a8396-849f-4bf8-c4a9-c64c8a5f2611"
      },
      "execution_count": null,
      "outputs": [
        {
          "output_type": "stream",
          "name": "stdout",
          "text": [
            "10 6\n"
          ]
        }
      ]
    },
    {
      "cell_type": "code",
      "source": [
        "#1. Take the name A as input from the user and print \"Hello A\", where A is the name in input.\n"
      ],
      "metadata": {
        "id": "S1JyuHZqcgTY"
      },
      "execution_count": null,
      "outputs": []
    },
    {
      "cell_type": "code",
      "source": [
        "Name=\"Hello A\""
      ],
      "metadata": {
        "id": "E7S9x_SKcuf5"
      },
      "execution_count": null,
      "outputs": []
    },
    {
      "cell_type": "code",
      "source": [
        "\n",
        " print(Name)"
      ],
      "metadata": {
        "colab": {
          "base_uri": "https://localhost:8080/"
        },
        "id": "0JmIJ011c3TH",
        "outputId": "248da317-491e-4e65-8050-29a4e11eddb5"
      },
      "execution_count": null,
      "outputs": [
        {
          "output_type": "stream",
          "name": "stdout",
          "text": [
            "Hello A\n"
          ]
        }
      ]
    },
    {
      "cell_type": "code",
      "source": [
        "#2. You have x rupees in your savings. You google pay y rupees, print your bank balance\n",
        "\n"
      ],
      "metadata": {
        "id": "-_xRkGmrdDUd"
      },
      "execution_count": null,
      "outputs": []
    },
    {
      "cell_type": "code",
      "source": [
        "x=50\n",
        "y= 40\n",
        "print (\"bank balance=x-y\")"
      ],
      "metadata": {
        "colab": {
          "base_uri": "https://localhost:8080/"
        },
        "id": "KVcyuk9wdrnW",
        "outputId": "f67447ab-6aea-40cb-b6c4-c146a29ebc70"
      },
      "execution_count": null,
      "outputs": [
        {
          "output_type": "stream",
          "name": "stdout",
          "text": [
            "bank balance=x-y\n"
          ]
        }
      ]
    },
    {
      "cell_type": "code",
      "source": [
        "#3. Print the first five letters of the English alphabet i.e. A, B, C, D and E one below each other"
      ],
      "metadata": {
        "id": "jRjIFUridZNf"
      },
      "execution_count": null,
      "outputs": []
    },
    {
      "cell_type": "code",
      "source": [
        "print('''A\n",
        "B\n",
        "C\n",
        "D\n",
        "E''')"
      ],
      "metadata": {
        "colab": {
          "base_uri": "https://localhost:8080/"
        },
        "id": "udpYo4DFds6C",
        "outputId": "04f67f98-db1a-47ca-94b6-df49664fbc89"
      },
      "execution_count": null,
      "outputs": [
        {
          "output_type": "stream",
          "name": "stdout",
          "text": [
            "A\n",
            "B\n",
            "C\n",
            "D\n",
            "E\n"
          ]
        }
      ]
    },
    {
      "cell_type": "code",
      "source": [
        "#4. Take two names A and B as input from the user, and print \"A says Hi to B\" (Without quotations), where A and B are the names in input."
      ],
      "metadata": {
        "id": "WDgi97c-dnu3"
      },
      "execution_count": null,
      "outputs": []
    },
    {
      "cell_type": "code",
      "source": [
        "name = \"A\"\n",
        "name=\"B\""
      ],
      "metadata": {
        "id": "rlxvd3owdt7x"
      },
      "execution_count": null,
      "outputs": []
    },
    {
      "cell_type": "code",
      "source": [
        "print(\"A says HI to B\")"
      ],
      "metadata": {
        "colab": {
          "base_uri": "https://localhost:8080/"
        },
        "id": "THVnDp_9eq5K",
        "outputId": "452b058e-6f62-4b24-ab6e-f5fccb7ea546"
      },
      "execution_count": null,
      "outputs": [
        {
          "output_type": "stream",
          "name": "stdout",
          "text": [
            "A says HI to B\n"
          ]
        }
      ]
    },
    {
      "cell_type": "code",
      "source": [],
      "metadata": {
        "id": "18ZgCxbyfBsZ"
      },
      "execution_count": null,
      "outputs": []
    }
  ]
}