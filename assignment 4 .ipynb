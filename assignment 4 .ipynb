{
 "cells": [
  {
   "cell_type": "code",
   "execution_count": 1,
   "id": "f2bd7920-bd11-4558-89d5-274e172d7c21",
   "metadata": {},
   "outputs": [
    {
     "name": "stdin",
     "output_type": "stream",
     "text": [
      "enter number =  6\n"
     ]
    },
    {
     "name": "stdout",
     "output_type": "stream",
     "text": [
      "the number is even\n"
     ]
    }
   ],
   "source": [
    "# 1. Question 1:\n",
    "# Write a Python program that checks if a number entered by the user is even\n",
    "# or odd. Print \"Even\" if the number is even and \"Odd\" if it is odd.\n",
    "\n",
    "number = int(input(\"enter number = \"))\n",
    "if number% 2 ==0:\n",
    "    print(\"the number is even\")\n",
    "else:\n",
    "    print(\"the number is odd\")\n",
    "\n"
   ]
  },
  {
   "cell_type": "code",
   "execution_count": 5,
   "id": "8e125a05-163f-401f-bc04-53c8b1b54107",
   "metadata": {},
   "outputs": [
    {
     "name": "stdin",
     "output_type": "stream",
     "text": [
      "enter your age =  13\n"
     ]
    },
    {
     "name": "stdout",
     "output_type": "stream",
     "text": [
      "You are a Teenager\n"
     ]
    }
   ],
   "source": [
    "# 2. Question 2:\n",
    "# Create a program that prompts the user for their age and prints whether\n",
    "# they are a child (0-12), teenager (13-19), or adult (20 and above).\n",
    "\n",
    "age = int(input(\"enter your age = \"))\n",
    "if 0 <= age <=12 :\n",
    "    print(\"You are a Child\")\n",
    "elif 13<= age <= 19:\n",
    "    print(\"You are a Teenager\")\n",
    "else:\n",
    "    print(\"You are an Adult\")"
   ]
  },
  {
   "cell_type": "code",
   "execution_count": 10,
   "id": "06e25bcf-2a3c-4ba0-bf32-133909d8d784",
   "metadata": {},
   "outputs": [
    {
     "name": "stdin",
     "output_type": "stream",
     "text": [
      "enter 1st number =  6\n",
      "enter 2nd number =  8\n"
     ]
    },
    {
     "name": "stdout",
     "output_type": "stream",
     "text": [
      "8 is larger number\n"
     ]
    }
   ],
   "source": [
    "# 3. Question 3:\n",
    "# Write a program that takes two numbers as input from the user and prints\n",
    "# which number is larger. If both numbers are equal, print \"Both numbers are\n",
    "# equal.\"\n",
    "\n",
    "x = input(\"enter 1st number = \")\n",
    "y = input(\"enter 2nd number = \")\n",
    "if x>y :\n",
    "    print (x , \"is larger number\")\n",
    "elif y>x :\n",
    "    print(y, \"is larger number\")\n",
    "else:\n",
    "    print(\"both are equal\")\n"
   ]
  },
  {
   "cell_type": "code",
   "execution_count": 12,
   "id": "9f0f832d-8f68-41b9-bb60-a4cab63751c4",
   "metadata": {},
   "outputs": [
    {
     "name": "stdin",
     "output_type": "stream",
     "text": [
      "enter password = securePassword\n"
     ]
    },
    {
     "name": "stdout",
     "output_type": "stream",
     "text": [
      "Access Granted\n"
     ]
    }
   ],
   "source": [
    "# 4. Question 4:\n",
    "# Create a program that checks if a user-entered password matches the\n",
    "# string \"securePassword\". Print \"Access Granted\" if it matches, otherwise\n",
    "# print \"Access Denied.\"\n",
    "\n",
    "password = input(\"enter password =\")\n",
    "if password == \"securePassword\":\n",
    "    print(\"Access Granted\")\n",
    "else:\n",
    "    print (\"Access Denied\")\n",
    "    \n",
    "\n",
    "\n"
   ]
  },
  {
   "cell_type": "code",
   "execution_count": 23,
   "id": "adcab974-60b1-4a36-96e6-f73d4ed44249",
   "metadata": {},
   "outputs": [
    {
     "name": "stdin",
     "output_type": "stream",
     "text": [
      "enter marks =  90.5\n"
     ]
    },
    {
     "name": "stdout",
     "output_type": "stream",
     "text": [
      "A\n"
     ]
    }
   ],
   "source": [
    "# 5. Question 5:\n",
    "# Write a program that takes a score from the user (0-100) and prints the\n",
    "# corresponding grade:\n",
    "# A for 90-100\n",
    "# B for 80-89\n",
    "# C for 70-79\n",
    "# D for 60-69\n",
    "# F for below 60\n",
    "\n",
    "marks = float(input(\"enter marks = \"))\n",
    "if 90 <=marks<=100:\n",
    "    print(\"A\")\n",
    "elif  80<= marks< 90:\n",
    "    print(\"B\")\n",
    "elif  70<= marks< 80:\n",
    "    print(\"C\")\n",
    "elif  60<= marks< 70:\n",
    "    print(\"D\")\n",
    "elif  0<= marks< 60:\n",
    "    print(\"F\")\n",
    "\n",
    "\n"
   ]
  },
  {
   "cell_type": "code",
   "execution_count": 30,
   "id": "b264def9-1765-4bb1-903c-e384c38ef18c",
   "metadata": {},
   "outputs": [
    {
     "name": "stdin",
     "output_type": "stream",
     "text": [
      "enter number =  -6\n"
     ]
    },
    {
     "name": "stdout",
     "output_type": "stream",
     "text": [
      "-6.0 is negative\n"
     ]
    }
   ],
   "source": [
    "# 6. Question 6:\n",
    "# Create a program that asks the user for a number and checks if it is\n",
    "# positive, negative, or zero. Print the corresponding message.\n",
    "\n",
    "num = float(input(\"enter number = \"))\n",
    "if num > 0 :\n",
    "    print (num, \"is positive\")\n",
    "elif num == 0 :\n",
    "    print(num, \"is zero\")\n",
    "else:\n",
    "    print(num ,\"is negative\")"
   ]
  },
  {
   "cell_type": "code",
   "execution_count": 31,
   "id": "573266e4-97d3-49aa-8f71-a953fb6a0a43",
   "metadata": {},
   "outputs": [
    {
     "name": "stdin",
     "output_type": "stream",
     "text": [
      "enter 1st number =  5\n",
      "enter 2nd number =  9\n",
      "enter 3rd number =  7\n"
     ]
    },
    {
     "name": "stdout",
     "output_type": "stream",
     "text": [
      "9 is largest of all\n"
     ]
    }
   ],
   "source": [
    "# 7. Question 7:\n",
    "\n",
    "# Assignment 4 2\n",
    "# Write a program that takes three numbers from the user and determines the\n",
    "# largest of the three. Print the largest number.\n",
    "\n",
    "x = int(input(\"enter 1st number = \"))\n",
    "y = int(input(\"enter 2nd number = \"))\n",
    "z = int(input(\"enter 3rd number = \"))\n",
    "\n",
    "if x > y and x > z:\n",
    "    print (x,\"is largest of all\")\n",
    "elif y > x and y > z:\n",
    "    print (y,\"is largest of all\")\n",
    "elif z > y and z > x:\n",
    "    print (z,\"is largest of all\")"
   ]
  },
  {
   "cell_type": "code",
   "execution_count": 40,
   "id": "9b0d295d-c9eb-484e-9104-6cf2eb3b5b8e",
   "metadata": {},
   "outputs": [
    {
     "name": "stdin",
     "output_type": "stream",
     "text": [
      "enter letter = i\n"
     ]
    },
    {
     "name": "stdout",
     "output_type": "stream",
     "text": [
      "this is vowel\n"
     ]
    }
   ],
   "source": [
    "\n",
    "# 8. Question 8:\n",
    "# Create a program that checks if a user-entered character is a vowel (a, e, i,\n",
    "# o, u) or a consonant. Print the corresponding message.\n",
    "\n",
    "\n",
    "A = [\"a\",\"e\",\"i\",\"o\",\"u\"]\n",
    "letter = input(\"enter letter =\")\n",
    "if letter in A :\n",
    "    print(\"this is vowel\")\n",
    "else:\n",
    "    print(\"it is constant\")"
   ]
  },
  {
   "cell_type": "code",
   "execution_count": 41,
   "id": "bdf09e96-6363-4cdb-9537-69a8f42af556",
   "metadata": {},
   "outputs": [
    {
     "name": "stdin",
     "output_type": "stream",
     "text": [
      "enter letter = l\n"
     ]
    },
    {
     "name": "stdout",
     "output_type": "stream",
     "text": [
      "it is constant\n"
     ]
    }
   ],
   "source": [
    "A = [\"a\",\"e\",\"i\",\"o\",\"u\"]\n",
    "letter = input(\"enter letter =\")\n",
    "if letter in A :\n",
    "    print(\"this is vowel\")\n",
    "else:\n",
    "    print(\"it is constant\")"
   ]
  },
  {
   "cell_type": "code",
   "execution_count": 48,
   "id": "0318feaa-389d-457c-9693-ceb6deb048e8",
   "metadata": {},
   "outputs": [
    {
     "name": "stdin",
     "output_type": "stream",
     "text": [
      "enter year =  1920\n"
     ]
    },
    {
     "name": "stdout",
     "output_type": "stream",
     "text": [
      "1920 it is a leap year\n"
     ]
    }
   ],
   "source": [
    "# 9. Question 9:\n",
    "# Write a program that checks if a given year is a leap year. A year is a leap\n",
    "# year if it is divisible by 4, except for years that are divisible by 100 but not\n",
    "# divisible by 400.\n",
    "\n",
    "year = int(input(\"enter year = \"))\n",
    "if  (year%4 == 0 and year % 100 != 0) or (year % 400 == 0) :\n",
    "    print(year ,\"it is a leap year\")\n",
    "else:\n",
    "    print(year,\"it is not a leap year\")"
   ]
  },
  {
   "cell_type": "code",
   "execution_count": 49,
   "id": "aab99916-85a4-43b4-9037-d728b62b3d45",
   "metadata": {},
   "outputs": [
    {
     "name": "stdin",
     "output_type": "stream",
     "text": [
      "enter year =  1999\n"
     ]
    },
    {
     "name": "stdout",
     "output_type": "stream",
     "text": [
      "1999 it is not a leap year\n"
     ]
    }
   ],
   "source": [
    "year = int(input(\"enter year = \"))\n",
    "if  (year%4 == 0 and year % 100 != 0) or (year % 400 == 0) :\n",
    "    print(year ,\"it is a leap year\")\n",
    "else:\n",
    "    print(year,\"it is not a leap year\")"
   ]
  },
  {
   "cell_type": "code",
   "execution_count": 52,
   "id": "0a7b12b6-8721-44df-a9ba-b0d079e9d5b9",
   "metadata": {},
   "outputs": [
    {
     "name": "stdin",
     "output_type": "stream",
     "text": [
      "enter temperature value =  56\n"
     ]
    },
    {
     "name": "stdout",
     "output_type": "stream",
     "text": [
      "132.8 it's boiling\n"
     ]
    }
   ],
   "source": [
    "# 10. Question 10:\n",
    "# Create a program that prompts the user for a temperature in Celsius and\n",
    "# converts it to Fahrenheit. If the converted temperature is greater than 100°F,\n",
    "# print \"It's boiling!\" Otherwise, print \"It's not boiling yet.\"\n",
    "\n",
    "Celsius= float(input(\"enter temperature value = \"))\n",
    "Fahrenheit=(Celsius* 9/5)+32    #Celsius=(Fahrenheit−32)× 5/9\n",
    "if Fahrenheit > 100:\n",
    "    print(Fahrenheit, \"it's boiling\")\n",
    "else:\n",
    "    print(Fahrenheit, \"It's not boiling yet\")\n",
    "\n"
   ]
  },
  {
   "cell_type": "code",
   "execution_count": 53,
   "id": "fcb12b4b-c24f-46f9-b07d-a37c79a1c571",
   "metadata": {},
   "outputs": [
    {
     "name": "stdin",
     "output_type": "stream",
     "text": [
      "enter temperature value =  36\n"
     ]
    },
    {
     "name": "stdout",
     "output_type": "stream",
     "text": [
      "96.8 It's not boiling yet\n"
     ]
    }
   ],
   "source": [
    "\n",
    "\n",
    "Celsius= float(input(\"enter temperature value = \"))\n",
    "Fahrenheit=(Celsius* 9/5)+32    #Celsius=(Fahrenheit−32)× 5/9\n",
    "if Fahrenheit > 100:\n",
    "    print(Fahrenheit, \"it's boiling\")\n",
    "else:\n",
    "    print(Fahrenheit, \"It's not boiling yet\")\n"
   ]
  },
  {
   "cell_type": "code",
   "execution_count": null,
   "id": "5591da75-7e77-4e03-8a85-1d681df39f67",
   "metadata": {},
   "outputs": [],
   "source": []
  }
 ],
 "metadata": {
  "kernelspec": {
   "display_name": "Python 3 (ipykernel)",
   "language": "python",
   "name": "python3"
  },
  "language_info": {
   "codemirror_mode": {
    "name": "ipython",
    "version": 3
   },
   "file_extension": ".py",
   "mimetype": "text/x-python",
   "name": "python",
   "nbconvert_exporter": "python",
   "pygments_lexer": "ipython3",
   "version": "3.12.4"
  }
 },
 "nbformat": 4,
 "nbformat_minor": 5
}
