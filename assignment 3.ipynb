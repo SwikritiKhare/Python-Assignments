{
 "cells": [
  {
   "cell_type": "code",
   "execution_count": 3,
   "id": "5cc6bf9e-1431-43dd-a696-82dfeb53999a",
   "metadata": {},
   "outputs": [
    {
     "name": "stdout",
     "output_type": "stream",
     "text": [
      "25\n"
     ]
    },
    {
     "data": {
      "text/plain": [
       "int"
      ]
     },
     "execution_count": 3,
     "metadata": {},
     "output_type": "execute_result"
    }
   ],
   "source": [
    "# 1. Question 1:\n",
    "# Create a variable age and assign it the value 25 . Then print the value of\n",
    "# age along with its data type using the type() function.\n",
    "\n",
    "\n",
    "age = 25\n",
    "print(age)\n",
    "type(age)\n"
   ]
  },
  {
   "cell_type": "code",
   "execution_count": 5,
   "id": "e1adc97e-7513-42ee-a769-ba85bc56d381",
   "metadata": {},
   "outputs": [
    {
     "name": "stdout",
     "output_type": "stream",
     "text": [
      "12.5\n"
     ]
    },
    {
     "data": {
      "text/plain": [
       "float"
      ]
     },
     "execution_count": 5,
     "metadata": {},
     "output_type": "execute_result"
    }
   ],
   "source": [
    "# 2. Question 2:\n",
    "# Assign the number 12.5 to a variable price . Print both the variable and its\n",
    "# data type. Then assign the value 12 to the same variable and print its data\n",
    "# type again. What do you observe?\n",
    "\n",
    "price = 12.5\n",
    "print(price)\n",
    "type (price)\n",
    "\n",
    "\n"
   ]
  },
  {
   "cell_type": "code",
   "execution_count": 7,
   "id": "7cd82dfa-87d6-41a0-8678-f826da781d4b",
   "metadata": {},
   "outputs": [
    {
     "name": "stdout",
     "output_type": "stream",
     "text": [
      "12\n"
     ]
    },
    {
     "data": {
      "text/plain": [
       "int"
      ]
     },
     "execution_count": 7,
     "metadata": {},
     "output_type": "execute_result"
    }
   ],
   "source": [
    "PRICE = 12\n",
    "print(PRICE)\n",
    "type(PRICE)"
   ]
  },
  {
   "cell_type": "code",
   "execution_count": 11,
   "id": "e3c62036-066b-414d-8e11-834af0839204",
   "metadata": {},
   "outputs": [
    {
     "name": "stdout",
     "output_type": "stream",
     "text": [
      "Value: True\n",
      "Type: <class 'bool'>\n",
      "New Value: False\n",
      "New Type: <class 'bool'>\n"
     ]
    }
   ],
   "source": [
    "# 3. Question 3:\n",
    "# Create a variable is_raining and set it to True . Print the value of the variable\n",
    "# along with its type. Then set is_raining to False and print the new value and\n",
    "# type.\n",
    "\n",
    "\n",
    "is_raining = True\n",
    "print(\"Value:\", is_raining)\n",
    "print(\"Type:\", type(is_raining))\n",
    "\n",
    "\n",
    "is_raining = False\n",
    "print(\"New Value:\", is_raining)\n",
    "print(\"New Type:\", type(is_raining))\n",
    "\n",
    "\n"
   ]
  },
  {
   "cell_type": "code",
   "execution_count": 16,
   "id": "2afa4e3d-62a6-4f04-9fab-1519d51b21ee",
   "metadata": {},
   "outputs": [
    {
     "name": "stdout",
     "output_type": "stream",
     "text": [
      "My name is Swikriti Khare\n"
     ]
    }
   ],
   "source": [
    "# 4. Question 4:\n",
    "# Create a variable my_name and store your full name in it as a string. Then\n",
    "# print the value of my_name using single quotes ' .\n",
    "\n",
    "my_name = \"Swikriti Khare\"\n",
    "print('My name is', my_name)\n",
    "\n"
   ]
  },
  {
   "cell_type": "code",
   "execution_count": 24,
   "id": "fd1f8fe7-1aab-4643-8fa8-ffdefe75257f",
   "metadata": {},
   "outputs": [
    {
     "name": "stdin",
     "output_type": "stream",
     "text": [
      "enter your name Swikriti\n",
      "enter your age 26\n"
     ]
    },
    {
     "name": "stdout",
     "output_type": "stream",
     "text": [
      "Hello, Swikriti !You are 26 years old.\n"
     ]
    }
   ],
   "source": [
    "# 5. Question 5:\n",
    "# Write a Python program that asks the user for their name and age using the\n",
    "# input() function. Store the inputs in variables and print a sentence like\n",
    "# \"Hello, [Name]! You are [Age] years old.\" Ensure you cast the age to an\n",
    "# integer.\n",
    "\n",
    "name = input(\"enter your name\")\n",
    "age = input(\"enter your age\")\n",
    "\n",
    "print(\"Hello,\", name,\"!\" \"You are\", age, \"years old.\")\n"
   ]
  },
  {
   "cell_type": "code",
   "execution_count": 31,
   "id": "22ff5edd-b5cf-4952-98e9-b016c306c604",
   "metadata": {},
   "outputs": [
    {
     "name": "stdout",
     "output_type": "stream",
     "text": [
      "10 <class 'int'>\n",
      "3.5 <class 'float'>\n",
      "13.5 <class 'float'>\n"
     ]
    }
   ],
   "source": [
    "# 6. Question 6:\n",
    "# Create two variables x and y and assign them the values 10 and 3.5 ,\n",
    "# respectively. Print their values and types. Then, create a new variable\n",
    "# sum_xy and store the sum of x and y . Print the result and its type.\n",
    "\n",
    "x = 10\n",
    "y= 3.5\n",
    "print(x, type(x))\n",
    "print(y, type(y))\n",
    "\n",
    "\n",
    "sum_xy = x + y \n",
    "print(sum_xy , type(sum_xy))\n"
   ]
  },
  {
   "cell_type": "code",
   "execution_count": 36,
   "id": "c54f374c-73e3-49f5-b36d-adc1c04086ff",
   "metadata": {},
   "outputs": [
    {
     "name": "stdout",
     "output_type": "stream",
     "text": [
      "45.0 <class 'float'>\n",
      "hello <class 'str'>\n",
      "None <class 'NoneType'>\n",
      "False <class 'bool'>\n"
     ]
    }
   ],
   "source": [
    "# 7. Question 7:\n",
    "# Using the type() function, check and print the data type of the following:\n",
    "# 45.0\n",
    "# \"hello\"\n",
    "# None\n",
    "# False\n",
    "\n",
    "print(45.0 , type(45.0))\n",
    "print(\"hello\",type(\"hello\"))\n",
    "print(\"None\",type(None))\n",
    "print(\"False\",type(False))\n"
   ]
  },
  {
   "cell_type": "code",
   "execution_count": 38,
   "id": "da36a06c-40f8-45a9-99fe-c8c3a2c37c44",
   "metadata": {},
   "outputs": [
    {
     "name": "stdout",
     "output_type": "stream",
     "text": [
      "apple banana cherry\n",
      "apple, banana, cherry\n"
     ]
    }
   ],
   "source": [
    "# 8. Question 8:\n",
    "# Write a Python program to print three strings \"apple\" , \"banana\" , and \"cherry\"\n",
    "# on the same line, separated by a space. Then modify the program to\n",
    "# separate the strings using a comma , instead of a space.\n",
    "\n",
    "print(\"apple\" , \"banana\" , \"cherry\")\n",
    "\n",
    "\n",
    "print(\"apple,\" , \"banana,\" ,\"cherry\")\n"
   ]
  },
  {
   "cell_type": "code",
   "execution_count": 43,
   "id": "dae6266e-deb3-4be1-bb92-9e0a17c4cf63",
   "metadata": {},
   "outputs": [
    {
     "name": "stdout",
     "output_type": "stream",
     "text": [
      "98765432198765432132423534534532535325352 <class 'int'>\n",
      "No special handling is needed for large integers in Python\n"
     ]
    }
   ],
   "source": [
    "# 9. Question 9:\n",
    "# Create a variable big_number and assign it a very large integer value (e.g.,\n",
    "# 987654321987654321 ). Print the value and its type. What do you notice about\n",
    "# the size of the number?\n",
    "\n",
    "big_number = 98765432198765432132423534534532535325352\n",
    "print(big_number, type(big_number))\n",
    "print(\"No special handling is needed for large integers in Python\")\n",
    "\n",
    "\n"
   ]
  },
  {
   "cell_type": "code",
   "execution_count": 47,
   "id": "1c9eb80e-3e17-4de7-93cd-faecb8757357",
   "metadata": {},
   "outputs": [
    {
     "name": "stdout",
     "output_type": "stream",
     "text": [
      "9.25 <class 'float'>\n"
     ]
    }
   ],
   "source": [
    "\n",
    "# 10. Question 10:\n",
    "# Write a Python program that prints the result of multiplying two floats (e.g.,\n",
    "# 2.5 and 3.7 ). Then check and print the data type of the result.\n",
    "\n",
    "\n",
    "x = 2.5\n",
    "y= 3.7\n",
    "multiplication = x * y\n",
    "print(multiplication , type(multiplication))"
   ]
  },
  {
   "cell_type": "code",
   "execution_count": null,
   "id": "dbe04e76-983a-4cfa-b0d2-1eb12fd5affa",
   "metadata": {},
   "outputs": [],
   "source": []
  },
  {
   "cell_type": "code",
   "execution_count": null,
   "id": "9f89f1e9-9b19-42da-b514-44cdc6c4dffe",
   "metadata": {},
   "outputs": [],
   "source": []
  }
 ],
 "metadata": {
  "kernelspec": {
   "display_name": "Python 3 (ipykernel)",
   "language": "python",
   "name": "python3"
  },
  "language_info": {
   "codemirror_mode": {
    "name": "ipython",
    "version": 3
   },
   "file_extension": ".py",
   "mimetype": "text/x-python",
   "name": "python",
   "nbconvert_exporter": "python",
   "pygments_lexer": "ipython3",
   "version": "3.12.4"
  }
 },
 "nbformat": 4,
 "nbformat_minor": 5
}
