{
  "nbformat": 4,
  "nbformat_minor": 0,
  "metadata": {
    "colab": {
      "provenance": [],
      "authorship_tag": "ABX9TyMNLEHPmhi/2VFtBSJjukCt",
      "include_colab_link": true
    },
    "kernelspec": {
      "name": "python3",
      "display_name": "Python 3"
    },
    "language_info": {
      "name": "python"
    }
  },
  "cells": [
    {
      "cell_type": "markdown",
      "metadata": {
        "id": "view-in-github",
        "colab_type": "text"
      },
      "source": [
        "<a href=\"https://colab.research.google.com/github/SwikritiKhare/Python-Assignments/blob/main/assingment_2_python.ipynb\" target=\"_parent\"><img src=\"https://colab.research.google.com/assets/colab-badge.svg\" alt=\"Open In Colab\"/></a>"
      ]
    },
    {
      "cell_type": "code",
      "execution_count": null,
      "metadata": {
        "id": "htgjgBF43U6q"
      },
      "outputs": [],
      "source": [
        "# Question 1:\n",
        "#Create a variable x with the value 15 . Perform floored division by 4 and\n",
        "#print the result. What is the difference between floored division and normal\n",
        "#division?"
      ]
    },
    {
      "cell_type": "code",
      "source": [
        "x = 15\n",
        "result = x // 4\n",
        "print(\"Floored Division Result:\", result)\n"
      ],
      "metadata": {
        "colab": {
          "base_uri": "https://localhost:8080/"
        },
        "id": "sIDQlnnH3v8P",
        "outputId": "5c947a0f-a4a6-47fc-c957-56bf95682566"
      },
      "execution_count": null,
      "outputs": [
        {
          "output_type": "stream",
          "name": "stdout",
          "text": [
            "Floored Division Result: 3\n"
          ]
        }
      ]
    },
    {
      "cell_type": "code",
      "source": [
        "#2. Question 2:Write a program to calculate 8 ** 2 and 16 ** 0.5 . Print both results and  describe what each represents\n"
      ],
      "metadata": {
        "id": "BxettuWz4W3k"
      },
      "execution_count": null,
      "outputs": []
    },
    {
      "cell_type": "code",
      "source": [
        "x=8\n",
        "y=16\n",
        "result= x**2\n",
        "print(\"8 raise to power 2:\",result)\n",
        "result=y**0.5\n",
        "print (\"16 raise to power 0.5:\",result)"
      ],
      "metadata": {
        "colab": {
          "base_uri": "https://localhost:8080/"
        },
        "id": "4Chjqs7f5RWz",
        "outputId": "d86cea4b-d99a-4fc5-b98d-8bd6e0b6f2c2"
      },
      "execution_count": null,
      "outputs": [
        {
          "output_type": "stream",
          "name": "stdout",
          "text": [
            "8 raise to power 2: 64\n",
            "16 raise to power 0.5: 4.0\n"
          ]
        }
      ]
    },
    {
      "cell_type": "code",
      "source": [
        "#3. Question 3:Use arithmetic operators to solve the following expression: 20 - 5 * 3 + 8 /4 .\n",
        "#Use parentheses to make sure the addition happens before multiplication. Print the output."
      ],
      "metadata": {
        "id": "X3EnlCax55JJ"
      },
      "execution_count": null,
      "outputs": []
    },
    {
      "cell_type": "code",
      "source": [
        "print(20-5*3+8/4)"
      ],
      "metadata": {
        "colab": {
          "base_uri": "https://localhost:8080/"
        },
        "id": "6cC4btb47Nza",
        "outputId": "76887129-6255-4ddf-f481-bfad46e1ddae"
      },
      "execution_count": null,
      "outputs": [
        {
          "output_type": "stream",
          "name": "stdout",
          "text": [
            "7.0\n"
          ]
        }
      ]
    },
    {
      "cell_type": "code",
      "source": [
        "#4. Question 4:Assign the value 7 to a variable num . Convert it to a float and print the result. What is the difference between 7 and 7.0 ?"
      ],
      "metadata": {
        "id": "41dGRAEO7-EM"
      },
      "execution_count": null,
      "outputs": []
    },
    {
      "cell_type": "code",
      "source": [
        "x=7\n",
        "print (x)\n",
        "type(x)"
      ],
      "metadata": {
        "colab": {
          "base_uri": "https://localhost:8080/"
        },
        "id": "yNd8dYT480_d",
        "outputId": "4377028e-d192-4066-915b-402ac04b6550"
      },
      "execution_count": null,
      "outputs": [
        {
          "output_type": "stream",
          "name": "stdout",
          "text": [
            "7\n"
          ]
        },
        {
          "output_type": "execute_result",
          "data": {
            "text/plain": [
              "int"
            ]
          },
          "metadata": {},
          "execution_count": 14
        }
      ]
    },
    {
      "cell_type": "code",
      "source": [
        "num = 7\n",
        "float_num = float(num)\n",
        "print(\"Converted to float:\", float_num)\n"
      ],
      "metadata": {
        "colab": {
          "base_uri": "https://localhost:8080/"
        },
        "id": "Mv8DfKy-9OyA",
        "outputId": "d50b5952-500c-461e-abfa-d1c611ade247"
      },
      "execution_count": null,
      "outputs": [
        {
          "output_type": "stream",
          "name": "stdout",
          "text": [
            "Converted to float: 7.0\n"
          ]
        }
      ]
    },
    {
      "cell_type": "code",
      "source": [
        "#5. Question 5:#Use a comparison operator to check if 100 is greater than 50 . Print the result and indicate what type of value this is.\n",
        "result= 100>50\n",
        "print(\"Is 100 greater than 50=\",result)\n",
        "print (\"type of result\", type(result))"
      ],
      "metadata": {
        "id": "2ouNw65f93rd",
        "colab": {
          "base_uri": "https://localhost:8080/"
        },
        "outputId": "d42777e8-4144-4ddd-a3de-0db18fefc38f"
      },
      "execution_count": null,
      "outputs": [
        {
          "output_type": "stream",
          "name": "stdout",
          "text": [
            "Is 100 greater than 50= True\n",
            "type of result <class 'bool'>\n"
          ]
        }
      ]
    },
    {
      "cell_type": "code",
      "source": [
        "#Question 6: Assign True to a variable is_sunny and False to is_weekend . Use logical operators to check if it is sunny and the weekend ( is_sunny and is_weekend ).\n",
        "#Print the result.\n",
        "is_sunny = True\n",
        "is_weekend = False\n",
        "\n",
        "result = is_sunny and is_weekend\n",
        "print(result)\n",
        "\n",
        "\n"
      ],
      "metadata": {
        "id": "6gF5ueJnfUd6",
        "colab": {
          "base_uri": "https://localhost:8080/"
        },
        "outputId": "47a82c48-dbaf-49f7-d98f-cc84aea70ff9"
      },
      "execution_count": null,
      "outputs": [
        {
          "output_type": "stream",
          "name": "stdout",
          "text": [
            "False\n"
          ]
        }
      ]
    },
    {
      "cell_type": "code",
      "source": [
        "from types import prepare_class\n",
        "#7 Create a variable password and set it to \"my_password123\" . Ask the user to input a password and print True if the input matches the value of password ,\n",
        "#otherwise print False .\n",
        "\n",
        "password= input(\"enter password=\")\n",
        "if password == (\"my_password123\"):\n",
        "  print(\"true\")\n",
        "else:\n",
        "  print(\"false\")"
      ],
      "metadata": {
        "colab": {
          "base_uri": "https://localhost:8080/"
        },
        "id": "UBZe9rE7oY9H",
        "outputId": "055858d4-5a20-4c5c-f8c8-8515111dcee8"
      },
      "execution_count": null,
      "outputs": [
        {
          "output_type": "stream",
          "name": "stdout",
          "text": [
            "enter password=my_password123\n",
            "true\n"
          ]
        }
      ]
    },
    {
      "cell_type": "code",
      "source": [
        "#8 Assign the value 50 to a variable marks . Increment the value of marks by 5\n",
        "#using the += operator, then print the new value.\n",
        "\n",
        "marks= 50\n",
        "\n"
      ],
      "metadata": {
        "id": "B9OZbux1o7QF"
      },
      "execution_count": null,
      "outputs": []
    },
    {
      "cell_type": "code",
      "source": [
        "marks\n",
        "\n"
      ],
      "metadata": {
        "colab": {
          "base_uri": "https://localhost:8080/"
        },
        "id": "ba-82dgsqJXU",
        "outputId": "603fd62b-ecac-40aa-cfac-f69c6269469d"
      },
      "execution_count": null,
      "outputs": [
        {
          "output_type": "execute_result",
          "data": {
            "text/plain": [
              "50"
            ]
          },
          "metadata": {},
          "execution_count": 16
        }
      ]
    },
    {
      "cell_type": "code",
      "source": [
        "marks += 5"
      ],
      "metadata": {
        "id": "_JJNPY6iq3bi"
      },
      "execution_count": null,
      "outputs": []
    },
    {
      "cell_type": "code",
      "source": [
        "marks"
      ],
      "metadata": {
        "colab": {
          "base_uri": "https://localhost:8080/"
        },
        "id": "x1flqszkq4fp",
        "outputId": "60ff80e8-082a-4600-885b-826161ec0309"
      },
      "execution_count": null,
      "outputs": [
        {
          "output_type": "execute_result",
          "data": {
            "text/plain": [
              "55"
            ]
          },
          "metadata": {},
          "execution_count": 19
        }
      ]
    },
    {
      "cell_type": "code",
      "source": [
        "i=[5]\n",
        "for i in range(3):\n",
        "    print (i*i)\n"
      ],
      "metadata": {
        "id": "Iv0eUbT6rISW",
        "colab": {
          "base_uri": "https://localhost:8080/"
        },
        "outputId": "26c6283c-cb7b-43cc-fb6f-2c05d83ded22"
      },
      "execution_count": null,
      "outputs": [
        {
          "output_type": "stream",
          "name": "stdout",
          "text": [
            "0\n",
            "1\n",
            "4\n"
          ]
        }
      ]
    },
    {
      "cell_type": "code",
      "source": [
        "# Question 9 : Write a program to check if the value of a = 0 and b = 10 satisfies a or b .\n",
        "# Print the output and explain why it gives that result.\n",
        "\n",
        "a = 0\n",
        "b = 10\n",
        "a = 0\n",
        "b = 10\n",
        "\n",
        "if a or b:\n",
        "    print(\"Condition is True\")\n",
        "else:\n",
        "    print(\"Condition is False\")\n",
        "\n",
        "\n"
      ],
      "metadata": {
        "id": "1WqFTHYP88X5",
        "colab": {
          "base_uri": "https://localhost:8080/"
        },
        "outputId": "8a45af02-74cc-4872-eb25-816d216a0091"
      },
      "execution_count": 1,
      "outputs": [
        {
          "output_type": "stream",
          "name": "stdout",
          "text": [
            "Condition is True\n"
          ]
        }
      ]
    },
    {
      "cell_type": "code",
      "source": [
        "a"
      ],
      "metadata": {
        "colab": {
          "base_uri": "https://localhost:8080/"
        },
        "id": "ct6E7Jl2cZ5y",
        "outputId": "3d756392-86ae-41c1-b3ee-1d8f08c082b8"
      },
      "execution_count": 2,
      "outputs": [
        {
          "output_type": "execute_result",
          "data": {
            "text/plain": [
              "0"
            ]
          },
          "metadata": {},
          "execution_count": 2
        }
      ]
    },
    {
      "cell_type": "code",
      "source": [
        "b"
      ],
      "metadata": {
        "colab": {
          "base_uri": "https://localhost:8080/"
        },
        "id": "pScJuQ9rcblg",
        "outputId": "31ea2931-1aa6-4fb6-c7bd-5b675935cf50"
      },
      "execution_count": 3,
      "outputs": [
        {
          "output_type": "execute_result",
          "data": {
            "text/plain": [
              "10"
            ]
          },
          "metadata": {},
          "execution_count": 3
        }
      ]
    },
    {
      "cell_type": "code",
      "source": [
        "# 10. Question 10:\n",
        "# Use not to negate the value of False and print the result. Explain what the\n",
        "# not operator does in Python.\n",
        "\n",
        "value = False\n",
        "result = not(value)\n",
        "\n",
        "print(result)\n",
        "\n",
        "\n"
      ],
      "metadata": {
        "colab": {
          "base_uri": "https://localhost:8080/"
        },
        "id": "2WNubXQjceZM",
        "outputId": "0aa4817f-4a59-49f7-882e-b27d0d42277f"
      },
      "execution_count": 4,
      "outputs": [
        {
          "output_type": "stream",
          "name": "stdout",
          "text": [
            "True\n"
          ]
        }
      ]
    },
    {
      "cell_type": "code",
      "source": [],
      "metadata": {
        "id": "g95FycbrdQ6k"
      },
      "execution_count": null,
      "outputs": []
    }
  ]
}