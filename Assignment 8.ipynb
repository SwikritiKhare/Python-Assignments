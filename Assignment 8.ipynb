{
 "cells": [
  {
   "cell_type": "code",
   "execution_count": null,
   "id": "6fd1096a-cdb3-4ac9-a428-afa0151af6d2",
   "metadata": {},
   "outputs": [],
   "source": [
    "# 1. Conditional Logic\n",
    "# Write a function that checks a number against 7 and prints:\n",
    "# • 'too low' if less than 7,\n",
    "# • 'just right' if equal to 7,\n",
    "# • 'too high' if greater than 7.\n",
    "# Call the function with the values 7, 5, and 15."
   ]
  },
  {
   "cell_type": "code",
   "execution_count": 3,
   "id": "f924332e-3d74-40f0-aeb5-673c9d8cace4",
   "metadata": {},
   "outputs": [],
   "source": [
    "def check_number(number):\n",
    "  if number < 7:\n",
    "    print('too low')\n",
    "  elif number == 7:\n",
    "    print('just right')\n",
    "  else:\n",
    "    print('too high')"
   ]
  },
  {
   "cell_type": "code",
   "execution_count": 5,
   "id": "35071036-da75-4ef6-9271-81121ec6ffa5",
   "metadata": {},
   "outputs": [
    {
     "name": "stdout",
     "output_type": "stream",
     "text": [
      "too high\n"
     ]
    }
   ],
   "source": [
    "check_number(10)"
   ]
  },
  {
   "cell_type": "code",
   "execution_count": null,
   "id": "ffc479fc-a532-4252-82a3-87a9f164b8a5",
   "metadata": {},
   "outputs": [],
   "source": [
    "# 2. While Loop Comparison\n",
    "# Assign:\n",
    "# guess_me = 7\n",
    "# start = 1\n",
    "# Write a while True: loop that compares start with guess_me:\n",
    "# • Print 'too low' if start < guess_me\n",
    "# • Print 'found it' and break if equal\n",
    "# • Print 'too high' and break if greater\n",
    "# Increment start at the end of each loop cycle."
   ]
  },
  {
   "cell_type": "code",
   "execution_count": 7,
   "id": "c41c6bab-33ae-49ae-863d-88288a87504f",
   "metadata": {},
   "outputs": [
    {
     "name": "stdout",
     "output_type": "stream",
     "text": [
      "too low\n",
      "too low\n",
      "too low\n",
      "too low\n",
      "too low\n",
      "too low\n",
      "found it\n"
     ]
    }
   ],
   "source": [
    "guess_me = 7\n",
    "start = 1\n",
    "while True:\n",
    "  if start < guess_me:\n",
    "    print('too low')\n",
    "  elif start == guess_me:\n",
    "    print('found it')\n",
    "    break\n",
    "  else:\n",
    "    print('too high')\n",
    "    break\n",
    "  start += 1"
   ]
  },
  {
   "cell_type": "code",
   "execution_count": null,
   "id": "eeef2f64-4977-437b-bbfc-78fed0235f82",
   "metadata": {},
   "outputs": [],
   "source": [
    "# 3. Loop Through a List\n",
    "# Use a for loop to print each element in this list:\n",
    "# [3, 2, 1, 0]"
   ]
  },
  {
   "cell_type": "code",
   "execution_count": 33,
   "id": "50bcb5c8-dd91-4e5a-806f-739a0c455841",
   "metadata": {},
   "outputs": [
    {
     "name": "stdout",
     "output_type": "stream",
     "text": [
      "3\n",
      "2\n",
      "1\n",
      "0\n"
     ]
    }
   ],
   "source": [
    "list1 = [3, 2, 1, 0]\n",
    "\n",
    "for item in list1:\n",
    "    print(item)\n"
   ]
  },
  {
   "cell_type": "code",
   "execution_count": null,
   "id": "9954c795-2733-481b-8682-6de068be497c",
   "metadata": {},
   "outputs": [],
   "source": [
    "# 4. List Comprehension\n",
    "# Use a list comprehension to generate a list of even numbers from 0 to 10."
   ]
  },
  {
   "cell_type": "code",
   "execution_count": 35,
   "id": "bff3cc37-2a70-42df-ab57-6ff3e73198d1",
   "metadata": {},
   "outputs": [
    {
     "data": {
      "text/plain": [
       "[0, 2, 4, 6, 8, 10]"
      ]
     },
     "execution_count": 35,
     "metadata": {},
     "output_type": "execute_result"
    }
   ],
   "source": [
    "even_numbers = [i for i in range(11) if i % 2 == 0]\n",
    "even_numbers\n"
   ]
  },
  {
   "cell_type": "code",
   "execution_count": null,
   "id": "0386fadd-ad88-408c-be05-f315cee56b7c",
   "metadata": {},
   "outputs": [],
   "source": [
    "# 5. Dictionary Comprehension\n",
    "# Use a dictionary comprehension (or another method) to create a dictionary called squares\n",
    "# where:\n",
    "# • The keys are numbers from 0 to 9\n",
    "# • The values are the squares of the keys"
   ]
  },
  {
   "cell_type": "code",
   "execution_count": 41,
   "id": "db882886-4313-4a64-b104-0daf205480f7",
   "metadata": {},
   "outputs": [
    {
     "data": {
      "text/plain": [
       "{0: 0, 1: 1, 2: 4, 3: 9, 4: 16, 5: 25, 6: 36, 7: 49, 8: 64, 9: 81}"
      ]
     },
     "execution_count": 41,
     "metadata": {},
     "output_type": "execute_result"
    }
   ],
   "source": [
    "squares = {x: x**2 for x in range(10)}\n",
    "squares"
   ]
  },
  {
   "cell_type": "code",
   "execution_count": null,
   "id": "6a918f91-6cff-46f2-8aa3-80e21b41cb09",
   "metadata": {},
   "outputs": [],
   "source": [
    "# 6. Set Comprehension\n",
    "# Create a set odd that contains all the odd numbers from 0 to 9 using a set comprehension."
   ]
  },
  {
   "cell_type": "code",
   "execution_count": 1,
   "id": "ee52db89-6acb-4958-acf0-fa00bf098d6a",
   "metadata": {},
   "outputs": [
    {
     "name": "stdout",
     "output_type": "stream",
     "text": [
      "{1, 3, 5, 7, 9}\n"
     ]
    }
   ],
   "source": [
    "odd = {x for x in range(10) if x % 2 != 0}\n",
    "print(odd)"
   ]
  },
  {
   "cell_type": "code",
   "execution_count": null,
   "id": "f06ce664-e04d-42a4-9992-5ef5c1349575",
   "metadata": {},
   "outputs": [],
   "source": [
    "# 7. Generator Expression\n",
    "# Use a generator expression to create strings like 'Got_0', 'Got_1', ..., 'Got_9'.\n",
    "# Iterate over the generator using a for loop and print the results in one line separated by\n",
    "# spaces."
   ]
  },
  {
   "cell_type": "code",
   "execution_count": 3,
   "id": "ed52cf86-92f8-4841-89e8-bcc911f1a721",
   "metadata": {},
   "outputs": [
    {
     "name": "stdout",
     "output_type": "stream",
     "text": [
      "Got_0 Got_1 Got_2 Got_3 Got_4 Got_5 Got_6 Got_7 Got_8 Got_9\n"
     ]
    }
   ],
   "source": [
    "gen_expr = ('Got_' + str(i) for i in range(10))\n",
    "print(*gen_expr)"
   ]
  },
  {
   "cell_type": "code",
   "execution_count": null,
   "id": "12cde948-682d-4d59-b162-bc9cd2c0f954",
   "metadata": {},
   "outputs": [],
   "source": [
    "# 8. Define a Simple Function\n",
    "# Define a function good() that returns this list:\n",
    "# ['Harry', 'Ron', 'Hermione']"
   ]
  },
  {
   "cell_type": "code",
   "execution_count": 5,
   "id": "f7ef4d20-9093-40c4-9937-0d44bd156b64",
   "metadata": {},
   "outputs": [],
   "source": [
    "def good():\n",
    "  return ['Harry', 'Ron', 'Hermione']"
   ]
  },
  {
   "cell_type": "code",
   "execution_count": 7,
   "id": "8d079c94-c2ac-4815-86f1-0f56a9622f13",
   "metadata": {},
   "outputs": [
    {
     "data": {
      "text/plain": [
       "['Harry', 'Ron', 'Hermione']"
      ]
     },
     "execution_count": 7,
     "metadata": {},
     "output_type": "execute_result"
    }
   ],
   "source": [
    "good()"
   ]
  },
  {
   "cell_type": "code",
   "execution_count": null,
   "id": "36453ceb-1e47-4edc-9010-ff24a9a61def",
   "metadata": {},
   "outputs": [],
   "source": [
    "# 9. Generator Function and Indexing\n",
    "# Define a generator function get_odds() that yields odd numbers from 0 to 9.\n",
    "# Use a loop or generator handling to find and print the third odd number generated."
   ]
  },
  {
   "cell_type": "code",
   "execution_count": 9,
   "id": "3db5865f-7a98-4de3-8af2-1394422b5502",
   "metadata": {},
   "outputs": [
    {
     "name": "stdout",
     "output_type": "stream",
     "text": [
      "5\n"
     ]
    }
   ],
   "source": [
    "def get_odds():\n",
    "    for x in range(10):\n",
    "        if x % 2 != 0:\n",
    "            yield x\n",
    "\n",
    "count = 0\n",
    "for num in get_odds():\n",
    "    count += 1\n",
    "    if count == 3:\n",
    "        print(num)\n",
    "        break"
   ]
  },
  {
   "cell_type": "code",
   "execution_count": null,
   "id": "2d04647b-c71f-4399-8e81-0d4bb7e67984",
   "metadata": {},
   "outputs": [],
   "source": []
  },
  {
   "cell_type": "code",
   "execution_count": null,
   "id": "ea7a569c-1b6c-41a5-aaae-b78ef5dbf2d5",
   "metadata": {},
   "outputs": [],
   "source": [
    "titles = ['Creature of Habit', 'Crewel Fate']\n",
    "plots = ['A nun turns into a monster', 'A haunted yarn shop']\n",
    "\n",
    "movies = dict(zip(titles, plots))\n",
    "movies"
   ]
  }
 ],
 "metadata": {
  "kernelspec": {
   "display_name": "Python 3 (ipykernel)",
   "language": "python",
   "name": "python3"
  },
  "language_info": {
   "codemirror_mode": {
    "name": "ipython",
    "version": 3
   },
   "file_extension": ".py",
   "mimetype": "text/x-python",
   "name": "python",
   "nbconvert_exporter": "python",
   "pygments_lexer": "ipython3",
   "version": "3.12.7"
  }
 },
 "nbformat": 4,
 "nbformat_minor": 5
}
