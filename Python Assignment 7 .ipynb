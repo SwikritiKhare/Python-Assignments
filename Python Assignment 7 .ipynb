{
 "cells": [
  {
   "cell_type": "code",
   "execution_count": 1,
   "id": "b8d55305",
   "metadata": {},
   "outputs": [],
   "source": [
    "#Function Parameters and Argument Behavior"
   ]
  },
  {
   "cell_type": "code",
   "execution_count": 2,
   "id": "d4988de1",
   "metadata": {},
   "outputs": [],
   "source": [
    "#1. Default Arguments\n",
    "#Q1. What will be the output of the following function call, and why?"
   ]
  },
  {
   "cell_type": "code",
   "execution_count": 3,
   "id": "bc033c8b",
   "metadata": {},
   "outputs": [
    {
     "name": "stdout",
     "output_type": "stream",
     "text": [
      "1 2 8\n"
     ]
    }
   ],
   "source": [
    "def func(a, b=6, c=8):\n",
    "    print(a, b, c)\n",
    "func(1, 2)"
   ]
  },
  {
   "cell_type": "code",
   "execution_count": 4,
   "id": "f3da28c2",
   "metadata": {},
   "outputs": [],
   "source": [
    "#2. Keyword Arguments with Defaults\n",
    "#Q2. Predict the output and explain:"
   ]
  },
  {
   "cell_type": "code",
   "execution_count": 5,
   "id": "28861973",
   "metadata": {},
   "outputs": [
    {
     "name": "stdout",
     "output_type": "stream",
     "text": [
      "1 2 3\n"
     ]
    }
   ],
   "source": [
    "def func(a, b, c=5):\n",
    "    print(a, b, c)\n",
    "func(1, c=3, b=2)"
   ]
  },
  {
   "cell_type": "code",
   "execution_count": 6,
   "id": "aea06fda",
   "metadata": {},
   "outputs": [],
   "source": [
    "#3. Positional Variable-Length Arguments\n",
    "#Q3. Explain the behavior and output:"
   ]
  },
  {
   "cell_type": "code",
   "execution_count": 7,
   "id": "84f483bb",
   "metadata": {},
   "outputs": [
    {
     "name": "stdout",
     "output_type": "stream",
     "text": [
      "1 (2, 3)\n"
     ]
    }
   ],
   "source": [
    "def func(a, *pargs):\n",
    "    print(a, pargs)\n",
    "func(1, 2, 3)"
   ]
  },
  {
   "cell_type": "code",
   "execution_count": 8,
   "id": "1cbc0020",
   "metadata": {},
   "outputs": [],
   "source": [
    "#4. Keyword Variable-Length Arguments\n",
    "#Q4. What will this code print, and why?"
   ]
  },
  {
   "cell_type": "code",
   "execution_count": 9,
   "id": "8a5e312d",
   "metadata": {},
   "outputs": [
    {
     "name": "stdout",
     "output_type": "stream",
     "text": [
      "1 {'c': 3, 'b': 2}\n"
     ]
    }
   ],
   "source": [
    "def func(a, **kargs):\n",
    "    print(a, kargs)\n",
    "func(a=1, c=3, b=2)"
   ]
  },
  {
   "cell_type": "code",
   "execution_count": 10,
   "id": "074ebdac",
   "metadata": {},
   "outputs": [],
   "source": [
    "#5. Mixing Positional and Unpacked Tuple Arguments\n",
    "#Q5. Explain the result of this call:"
   ]
  },
  {
   "cell_type": "code",
   "execution_count": 11,
   "id": "b9b787ab",
   "metadata": {},
   "outputs": [
    {
     "name": "stdout",
     "output_type": "stream",
     "text": [
      "1 5 6 5\n"
     ]
    }
   ],
   "source": [
    "def func(a, b, c=8, d=5):\n",
    "    print(a, b, c, d)\n",
    "func(1, *(5, 6))"
   ]
  },
  {
   "cell_type": "code",
   "execution_count": 12,
   "id": "25c7619d",
   "metadata": {},
   "outputs": [],
   "source": [
    "#6. Mutable vs Immutable Behavior\n",
    "#Q6. Predict the output of the variables l, m, and n after this code runs:"
   ]
  },
  {
   "cell_type": "code",
   "execution_count": 14,
   "id": "183da54b",
   "metadata": {},
   "outputs": [
    {
     "name": "stdout",
     "output_type": "stream",
     "text": [
      "1 ['x'] {'a': 'y'}\n"
     ]
    }
   ],
   "source": [
    "def func(a, b, c):\n",
    "    a = 2\n",
    "    b[0] = 'x'\n",
    "    c['a'] = 'y'\n",
    "    \n",
    "l = 1\n",
    "m = [1]\n",
    "n = {'a': 0}\n",
    "\n",
    "func(l, m, n)\n",
    "\n",
    "print(l, m, n)"
   ]
  },
  {
   "cell_type": "code",
   "execution_count": 15,
   "id": "cf0a9ad8",
   "metadata": {},
   "outputs": [],
   "source": [
    "#Bonus Challenge\n",
    "#Write a function that accepts:\n",
    "#• one required argument,\n",
    "#• a variable number of positional arguments,\n",
    "#• a variable number of keyword arguments,\n",
    "#Then print all three components. Call it with:"
   ]
  },
  {
   "cell_type": "code",
   "execution_count": 17,
   "id": "ae5e66fa",
   "metadata": {},
   "outputs": [
    {
     "name": "stdout",
     "output_type": "stream",
     "text": [
      "Required argument: Hello\n",
      "Positional arguments (args): (1, 2, 3)\n",
      "Keyword arguments (kwargs): {'name': 'Sujal', 'age': 23}\n"
     ]
    }
   ],
   "source": [
    "def bonus_function(required_arg, *args, **kwargs):\n",
    "    print(\"Required argument:\", required_arg)\n",
    "    print(\"Positional arguments (args):\", args)\n",
    "    print(\"Keyword arguments (kwargs):\", kwargs)\n",
    "\n",
    "# Calling the function with all three types of arguments\n",
    "bonus_function(\n",
    "    \"Hello\",               # Required argument\n",
    "    1, 2, 3,               # Positional arguments\n",
    "    name=\"Sujal\", age=23   # Keyword arguments\n",
    ")\n"
   ]
  }
 ],
 "metadata": {
  "kernelspec": {
   "display_name": "Python 3 (ipykernel)",
   "language": "python",
   "name": "python3"
  },
  "language_info": {
   "codemirror_mode": {
    "name": "ipython",
    "version": 3
   },
   "file_extension": ".py",
   "mimetype": "text/x-python",
   "name": "python",
   "nbconvert_exporter": "python",
   "pygments_lexer": "ipython3",
   "version": "3.11.3"
  }
 },
 "nbformat": 4,
 "nbformat_minor": 5
}
